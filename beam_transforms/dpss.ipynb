{
 "cells": [
  {
   "cell_type": "code",
   "execution_count": 1,
   "id": "cf25af22",
   "metadata": {},
   "outputs": [
    {
     "name": "stderr",
     "output_type": "stream",
     "text": [
      "fatal: No names found, cannot describe anything.\n"
     ]
    }
   ],
   "source": [
    "import uvtools\n",
    "import matplotlib.pyplot as plt\n",
    "import healpy\n",
    "import numpy as np"
   ]
  },
  {
   "cell_type": "code",
   "execution_count": 2,
   "id": "02985ac7",
   "metadata": {},
   "outputs": [],
   "source": [
    "RES = 1\n",
    "FREQS = np.arange(5, 50+RES, RES) * 1e6\n",
    "data = np.sin(2*np.pi*FREQS*10e-9)"
   ]
  },
  {
   "cell_type": "code",
   "execution_count": 3,
   "id": "d0653d6a",
   "metadata": {},
   "outputs": [
    {
     "data": {
      "image/png": "[encoded data removed]",
      "text/plain": [
       "<Figure size 432x288 with 1 Axes>"
      ]
     },
     "metadata": {
      "needs_background": "light"
     },
     "output_type": "display_data"
    }
   ],
   "source": [
    "plt.figure()\n",
    "plt.scatter(FREQS, data)\n",
    "plt.show()"
   ]
  },
  {
   "cell_type": "code",
   "execution_count": 4,
   "id": "40f94599",
   "metadata": {},
   "outputs": [],
   "source": [
    "target_freqs = np.arange(5, 50+RES/2, RES/2) * 1e6"
   ]
  },
  {
   "cell_type": "code",
   "execution_count": 5,
   "id": "e4147d80",
   "metadata": {},
   "outputs": [],
   "source": [
    "B,_ = uvtools.dspec.dpss_operator(\n",
    "    target_freqs, \n",
    "    filter_centers=[0],\n",
    "    filter_half_widths=[20e-9],\n",
    "    eigenval_cutoff=[1e-12],\n",
    ")\n",
    "\n",
    "A = B[::2]"
   ]
  },
  {
   "cell_type": "code",
   "execution_count": 7,
   "id": "76045b70",
   "metadata": {},
   "outputs": [
    {
     "data": {
      "text/plain": [
       "(46, 8)"
      ]
     },
     "execution_count": 7,
     "metadata": {},
     "output_type": "execute_result"
    }
   ],
   "source": [
    "A.shape"
   ]
  },
  {
   "cell_type": "code",
   "execution_count": 6,
   "id": "fda37b89",
   "metadata": {},
   "outputs": [
    {
     "data": {
      "text/plain": [
       "(91, 8)"
      ]
     },
     "execution_count": 6,
     "metadata": {},
     "output_type": "execute_result"
    }
   ],
   "source": [
    "B.shape"
   ]
  },
  {
   "cell_type": "code",
   "execution_count": 72,
   "id": "328aedda",
   "metadata": {},
   "outputs": [],
   "source": [
    "interp = B @ np.linalg.inv(A.T@A) @ A.T @ data"
   ]
  },
  {
   "cell_type": "code",
   "execution_count": 73,
   "id": "a182d6ae",
   "metadata": {},
   "outputs": [
    {
     "name": "stderr",
     "output_type": "stream",
     "text": [
      "/home/christian/Documents/research/ucb_research/.venv/lib/python3.8/site-packages/matplotlib/collections.py:200: ComplexWarning: Casting complex values to real discards the imaginary part\n",
      "  offsets = np.asanyarray(offsets, float)\n"
     ]
    },
    {
     "data": {
      "image/png": "[encoded data removed]",
      "text/plain": [
       "<Figure size 432x288 with 1 Axes>"
      ]
     },
     "metadata": {
      "needs_background": "light"
     },
     "output_type": "display_data"
    }
   ],
   "source": [
    "plt.figure()\n",
    "plt.scatter(target_freqs, interp)\n",
    "plt.show()"
   ]
  },
  {
   "cell_type": "code",
   "execution_count": 16,
   "id": "f0013994",
   "metadata": {},
   "outputs": [
    {
     "name": "stderr",
     "output_type": "stream",
     "text": [
      "/home/christian/Documents/research/ucb_research/.venv/lib/python3.8/site-packages/uvtools/dspec.py:1982: ComplexWarning: Casting complex values to real discards the imaginary part\n",
      "  model[i], _, info_t = _fit_basis_1d(x=x[1], y=_y, w=_w, filter_centers=filter_centers[1],\n"
     ]
    }
   ],
   "source": [
    "model, res, info = uvtools.dspec.fourier_filter(FREQS, data, wgts=np.ones_like(data), filter_centers=[0], filter_half_widths=[20e-9],\n",
    "                            mode=\"dpss_matrix\")"
   ]
  },
  {
   "cell_type": "code",
   "execution_count": 17,
   "id": "3be11dc5",
   "metadata": {},
   "outputs": [
    {
     "data": {
      "image/png": "[encoded data removed]",
      "text/plain": [
       "<Figure size 432x288 with 1 Axes>"
      ]
     },
     "metadata": {
      "needs_background": "light"
     },
     "output_type": "display_data"
    }
   ],
   "source": [
    "plt.plot(FREQS, data)\n",
    "plt.plot(FREQS, model)\n",
    "plt.plot(FREQS, res)\n",
    "plt.yscale(\"log\")\n",
    "plt.show()"
   ]
  },
  {
   "cell_type": "code",
   "execution_count": 18,
   "id": "5a95d6c7",
   "metadata": {},
   "outputs": [
    {
     "data": {
      "text/plain": [
       "{'status': {'axis_0': {}, 'axis_1': {0: 'success'}},\n",
       " 'filter_params': {'axis_0': {},\n",
       "  'axis_1': {'method': 'matrix',\n",
       "   'basis': 'dpss',\n",
       "   'filter_centers': [0],\n",
       "   'filter_half_widths': [2e-08],\n",
       "   'suppression_factors': [1e-09],\n",
       "   'basis_options': {'eigenval_cutoff': [1e-12]},\n",
       "   'mode': 'dpss_matrix'}}}"
      ]
     },
     "execution_count": 18,
     "metadata": {},
     "output_type": "execute_result"
    }
   ],
   "source": [
    "info"
   ]
  },
  {
   "cell_type": "code",
   "execution_count": 23,
   "id": "9bcf07e3",
   "metadata": {},
   "outputs": [],
   "source": [
    "model, res, info = uvtools.dspec._fit_basis_1d(FREQS, data, np.ones_like(data), filter_centers=[0],\n",
    "                                               filter_half_widths=[20e-9], basis_options={\"eigenval_cutoff\":[1e-12]},\n",
    "                                               basis=\"dpss\",)"
   ]
  },
  {
   "cell_type": "code",
   "execution_count": 26,
   "id": "1c2a6cfb",
   "metadata": {
    "scrolled": false
   },
   "outputs": [
    {
     "data": {
      "text/plain": [
       "array([0.0610002 +0.j, 0.17536147+0.j, 0.28697929+0.j, 0.3510673 +0.j,\n",
       "       0.37171842+0.j, 0.36916582+0.j, 0.35147363+0.j, 0.3229673 +0.j])"
      ]
     },
     "execution_count": 26,
     "metadata": {},
     "output_type": "execute_result"
    }
   ],
   "source": [
    "info[\"amat\"][0]"
   ]
  }
 ],
 "metadata": {
  "kernelspec": {
   "display_name": "Python 3 (ipykernel)",
   "language": "python",
   "name": "python3"
  },
  "language_info": {
   "codemirror_mode": {
    "name": "ipython",
    "version": 3
   },
   "file_extension": ".py",
   "mimetype": "text/x-python",
   "name": "python",
   "nbconvert_exporter": "python",
   "pygments_lexer": "ipython3",
   "version": "3.9.12"
  }
 },
 "nbformat": 4,
 "nbformat_minor": 5
}
